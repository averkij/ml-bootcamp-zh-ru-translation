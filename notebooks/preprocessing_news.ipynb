{
 "cells": [
  {
   "cell_type": "markdown",
   "metadata": {},
   "source": [
    "# News dataset"
   ]
  },
  {
   "cell_type": "markdown",
   "metadata": {},
   "source": [
    "Chasing for the news corpora."
   ]
  },
  {
   "cell_type": "code",
   "execution_count": 1,
   "metadata": {},
   "outputs": [],
   "source": [
    "import re\n",
    "import numpy as np\n",
    "import pickle\n",
    "import pandas as pd\n",
    "import os,glob\n",
    "import glob\n",
    "import re\n",
    "import urllib.request\n",
    "\n",
    "from matplotlib import pyplot as plt\n",
    "\n",
    "import razdel\n",
    "import time"
   ]
  },
  {
   "cell_type": "markdown",
   "metadata": {},
   "source": [
    "## UM-Corpus"
   ]
  },
  {
   "cell_type": "markdown",
   "metadata": {},
   "source": [
    "UM Corpus is aligned parallel educational corpus descripbed in the following paper.\n",
    "\n",
    "http://www.lrec-conf.org/proceedings/lrec2014/pdf/774_Paper.pdf"
   ]
  },
  {
   "cell_type": "code",
   "execution_count": 38,
   "metadata": {},
   "outputs": [],
   "source": [
    "filepath = r\"D:\\ml\\umcorpus-v1\\UM-Corpus\\data\\Bilingual\\News\\Bi-News.txt\"\n",
    "en_path = r\"D:\\ml\\umcorpus-v1\\UM-Corpus\\data\\Bilingual\\News\\en.txt\"\n",
    "zh_path = r\"D:\\ml\\umcorpus-v1\\UM-Corpus\\data\\Bilingual\\News\\zh.txt\"\n",
    "news_dir = r\"D:\\ml\\umcorpus-v1\\UM-Corpus\\data\\Bilingual\\News\\en_\"\n",
    "news_dir2 = r\"D:\\ml\\umcorpus-v1\\UM-Corpus\\data\\Bilingual\\News\\zh_\""
   ]
  },
  {
   "cell_type": "code",
   "execution_count": 14,
   "metadata": {},
   "outputs": [],
   "source": [
    "with open(filepath, mode='r', encoding='utf-8') as input_news, \\\n",
    "     open(en_path, mode='w', encoding='utf-8') as out_en, open(zh_path, mode='w', encoding='utf-8') as out_zh:\n",
    "    i = 0\n",
    "    for line in input_news.readlines():\n",
    "        if i%2==0:\n",
    "            out_en.write(line.strip())\n",
    "            out_en.write('\\n')\n",
    "        else:\n",
    "            out_zh.write(line.strip())\n",
    "            out_zh.write('\\n')\n",
    "        i+=1"
   ]
  },
  {
   "cell_type": "code",
   "execution_count": 35,
   "metadata": {},
   "outputs": [],
   "source": [
    "batch = 5000"
   ]
  },
  {
   "cell_type": "code",
   "execution_count": 39,
   "metadata": {
    "scrolled": true
   },
   "outputs": [
    {
     "name": "stdout",
     "output_type": "stream",
     "text": [
      "D:\\ml\\umcorpus-v1\\UM-Corpus\\data\\Bilingual\\News\\zh_0.txt\n",
      "D:\\ml\\umcorpus-v1\\UM-Corpus\\data\\Bilingual\\News\\zh_1.txt\n",
      "D:\\ml\\umcorpus-v1\\UM-Corpus\\data\\Bilingual\\News\\zh_2.txt\n",
      "D:\\ml\\umcorpus-v1\\UM-Corpus\\data\\Bilingual\\News\\zh_3.txt\n",
      "D:\\ml\\umcorpus-v1\\UM-Corpus\\data\\Bilingual\\News\\zh_4.txt\n",
      "D:\\ml\\umcorpus-v1\\UM-Corpus\\data\\Bilingual\\News\\zh_5.txt\n",
      "D:\\ml\\umcorpus-v1\\UM-Corpus\\data\\Bilingual\\News\\zh_6.txt\n",
      "D:\\ml\\umcorpus-v1\\UM-Corpus\\data\\Bilingual\\News\\zh_7.txt\n",
      "D:\\ml\\umcorpus-v1\\UM-Corpus\\data\\Bilingual\\News\\zh_8.txt\n",
      "D:\\ml\\umcorpus-v1\\UM-Corpus\\data\\Bilingual\\News\\zh_9.txt\n",
      "D:\\ml\\umcorpus-v1\\UM-Corpus\\data\\Bilingual\\News\\zh_10.txt\n",
      "D:\\ml\\umcorpus-v1\\UM-Corpus\\data\\Bilingual\\News\\zh_11.txt\n",
      "D:\\ml\\umcorpus-v1\\UM-Corpus\\data\\Bilingual\\News\\zh_12.txt\n",
      "D:\\ml\\umcorpus-v1\\UM-Corpus\\data\\Bilingual\\News\\zh_13.txt\n",
      "D:\\ml\\umcorpus-v1\\UM-Corpus\\data\\Bilingual\\News\\zh_14.txt\n",
      "D:\\ml\\umcorpus-v1\\UM-Corpus\\data\\Bilingual\\News\\zh_15.txt\n",
      "D:\\ml\\umcorpus-v1\\UM-Corpus\\data\\Bilingual\\News\\zh_16.txt\n",
      "D:\\ml\\umcorpus-v1\\UM-Corpus\\data\\Bilingual\\News\\zh_17.txt\n",
      "D:\\ml\\umcorpus-v1\\UM-Corpus\\data\\Bilingual\\News\\zh_18.txt\n",
      "D:\\ml\\umcorpus-v1\\UM-Corpus\\data\\Bilingual\\News\\zh_19.txt\n",
      "D:\\ml\\umcorpus-v1\\UM-Corpus\\data\\Bilingual\\News\\zh_20.txt\n",
      "D:\\ml\\umcorpus-v1\\UM-Corpus\\data\\Bilingual\\News\\zh_21.txt\n",
      "D:\\ml\\umcorpus-v1\\UM-Corpus\\data\\Bilingual\\News\\zh_22.txt\n",
      "D:\\ml\\umcorpus-v1\\UM-Corpus\\data\\Bilingual\\News\\zh_23.txt\n",
      "D:\\ml\\umcorpus-v1\\UM-Corpus\\data\\Bilingual\\News\\zh_24.txt\n",
      "D:\\ml\\umcorpus-v1\\UM-Corpus\\data\\Bilingual\\News\\zh_25.txt\n",
      "D:\\ml\\umcorpus-v1\\UM-Corpus\\data\\Bilingual\\News\\zh_26.txt\n",
      "D:\\ml\\umcorpus-v1\\UM-Corpus\\data\\Bilingual\\News\\zh_27.txt\n",
      "D:\\ml\\umcorpus-v1\\UM-Corpus\\data\\Bilingual\\News\\zh_28.txt\n",
      "D:\\ml\\umcorpus-v1\\UM-Corpus\\data\\Bilingual\\News\\zh_29.txt\n",
      "D:\\ml\\umcorpus-v1\\UM-Corpus\\data\\Bilingual\\News\\zh_30.txt\n",
      "D:\\ml\\umcorpus-v1\\UM-Corpus\\data\\Bilingual\\News\\zh_31.txt\n",
      "D:\\ml\\umcorpus-v1\\UM-Corpus\\data\\Bilingual\\News\\zh_32.txt\n",
      "D:\\ml\\umcorpus-v1\\UM-Corpus\\data\\Bilingual\\News\\zh_33.txt\n",
      "D:\\ml\\umcorpus-v1\\UM-Corpus\\data\\Bilingual\\News\\zh_34.txt\n",
      "D:\\ml\\umcorpus-v1\\UM-Corpus\\data\\Bilingual\\News\\zh_35.txt\n",
      "D:\\ml\\umcorpus-v1\\UM-Corpus\\data\\Bilingual\\News\\zh_36.txt\n",
      "D:\\ml\\umcorpus-v1\\UM-Corpus\\data\\Bilingual\\News\\zh_37.txt\n",
      "D:\\ml\\umcorpus-v1\\UM-Corpus\\data\\Bilingual\\News\\zh_38.txt\n",
      "D:\\ml\\umcorpus-v1\\UM-Corpus\\data\\Bilingual\\News\\zh_39.txt\n",
      "D:\\ml\\umcorpus-v1\\UM-Corpus\\data\\Bilingual\\News\\zh_40.txt\n",
      "D:\\ml\\umcorpus-v1\\UM-Corpus\\data\\Bilingual\\News\\zh_41.txt\n",
      "D:\\ml\\umcorpus-v1\\UM-Corpus\\data\\Bilingual\\News\\zh_42.txt\n",
      "D:\\ml\\umcorpus-v1\\UM-Corpus\\data\\Bilingual\\News\\zh_43.txt\n",
      "D:\\ml\\umcorpus-v1\\UM-Corpus\\data\\Bilingual\\News\\zh_44.txt\n",
      "D:\\ml\\umcorpus-v1\\UM-Corpus\\data\\Bilingual\\News\\zh_45.txt\n",
      "D:\\ml\\umcorpus-v1\\UM-Corpus\\data\\Bilingual\\News\\zh_46.txt\n",
      "D:\\ml\\umcorpus-v1\\UM-Corpus\\data\\Bilingual\\News\\zh_47.txt\n",
      "D:\\ml\\umcorpus-v1\\UM-Corpus\\data\\Bilingual\\News\\zh_48.txt\n",
      "D:\\ml\\umcorpus-v1\\UM-Corpus\\data\\Bilingual\\News\\zh_49.txt\n",
      "D:\\ml\\umcorpus-v1\\UM-Corpus\\data\\Bilingual\\News\\zh_50.txt\n",
      "D:\\ml\\umcorpus-v1\\UM-Corpus\\data\\Bilingual\\News\\zh_51.txt\n",
      "D:\\ml\\umcorpus-v1\\UM-Corpus\\data\\Bilingual\\News\\zh_52.txt\n",
      "D:\\ml\\umcorpus-v1\\UM-Corpus\\data\\Bilingual\\News\\zh_53.txt\n",
      "D:\\ml\\umcorpus-v1\\UM-Corpus\\data\\Bilingual\\News\\zh_54.txt\n",
      "D:\\ml\\umcorpus-v1\\UM-Corpus\\data\\Bilingual\\News\\zh_55.txt\n",
      "D:\\ml\\umcorpus-v1\\UM-Corpus\\data\\Bilingual\\News\\zh_56.txt\n",
      "D:\\ml\\umcorpus-v1\\UM-Corpus\\data\\Bilingual\\News\\zh_57.txt\n",
      "D:\\ml\\umcorpus-v1\\UM-Corpus\\data\\Bilingual\\News\\zh_58.txt\n",
      "D:\\ml\\umcorpus-v1\\UM-Corpus\\data\\Bilingual\\News\\zh_59.txt\n",
      "D:\\ml\\umcorpus-v1\\UM-Corpus\\data\\Bilingual\\News\\zh_60.txt\n",
      "D:\\ml\\umcorpus-v1\\UM-Corpus\\data\\Bilingual\\News\\zh_61.txt\n",
      "D:\\ml\\umcorpus-v1\\UM-Corpus\\data\\Bilingual\\News\\zh_62.txt\n",
      "D:\\ml\\umcorpus-v1\\UM-Corpus\\data\\Bilingual\\News\\zh_63.txt\n",
      "D:\\ml\\umcorpus-v1\\UM-Corpus\\data\\Bilingual\\News\\zh_64.txt\n",
      "D:\\ml\\umcorpus-v1\\UM-Corpus\\data\\Bilingual\\News\\zh_65.txt\n",
      "D:\\ml\\umcorpus-v1\\UM-Corpus\\data\\Bilingual\\News\\zh_66.txt\n",
      "D:\\ml\\umcorpus-v1\\UM-Corpus\\data\\Bilingual\\News\\zh_67.txt\n",
      "D:\\ml\\umcorpus-v1\\UM-Corpus\\data\\Bilingual\\News\\zh_68.txt\n",
      "D:\\ml\\umcorpus-v1\\UM-Corpus\\data\\Bilingual\\News\\zh_69.txt\n",
      "D:\\ml\\umcorpus-v1\\UM-Corpus\\data\\Bilingual\\News\\zh_70.txt\n",
      "D:\\ml\\umcorpus-v1\\UM-Corpus\\data\\Bilingual\\News\\zh_71.txt\n",
      "D:\\ml\\umcorpus-v1\\UM-Corpus\\data\\Bilingual\\News\\zh_72.txt\n",
      "D:\\ml\\umcorpus-v1\\UM-Corpus\\data\\Bilingual\\News\\zh_73.txt\n",
      "D:\\ml\\umcorpus-v1\\UM-Corpus\\data\\Bilingual\\News\\zh_74.txt\n",
      "D:\\ml\\umcorpus-v1\\UM-Corpus\\data\\Bilingual\\News\\zh_75.txt\n",
      "D:\\ml\\umcorpus-v1\\UM-Corpus\\data\\Bilingual\\News\\zh_76.txt\n",
      "D:\\ml\\umcorpus-v1\\UM-Corpus\\data\\Bilingual\\News\\zh_77.txt\n",
      "D:\\ml\\umcorpus-v1\\UM-Corpus\\data\\Bilingual\\News\\zh_78.txt\n",
      "D:\\ml\\umcorpus-v1\\UM-Corpus\\data\\Bilingual\\News\\zh_79.txt\n",
      "D:\\ml\\umcorpus-v1\\UM-Corpus\\data\\Bilingual\\News\\zh_80.txt\n",
      "D:\\ml\\umcorpus-v1\\UM-Corpus\\data\\Bilingual\\News\\zh_81.txt\n",
      "D:\\ml\\umcorpus-v1\\UM-Corpus\\data\\Bilingual\\News\\zh_82.txt\n",
      "D:\\ml\\umcorpus-v1\\UM-Corpus\\data\\Bilingual\\News\\zh_83.txt\n",
      "D:\\ml\\umcorpus-v1\\UM-Corpus\\data\\Bilingual\\News\\zh_84.txt\n",
      "D:\\ml\\umcorpus-v1\\UM-Corpus\\data\\Bilingual\\News\\zh_85.txt\n",
      "D:\\ml\\umcorpus-v1\\UM-Corpus\\data\\Bilingual\\News\\zh_86.txt\n",
      "D:\\ml\\umcorpus-v1\\UM-Corpus\\data\\Bilingual\\News\\zh_87.txt\n",
      "D:\\ml\\umcorpus-v1\\UM-Corpus\\data\\Bilingual\\News\\zh_88.txt\n",
      "D:\\ml\\umcorpus-v1\\UM-Corpus\\data\\Bilingual\\News\\zh_89.txt\n"
     ]
    }
   ],
   "source": [
    "i = 0\n",
    "n = 0\n",
    "lines = []\n",
    "with open(zh_path, mode='r', encoding='utf-8') as input_en:\n",
    "    while(True):\n",
    "        i+=1\n",
    "        line = input_en.readline()        \n",
    "        if not line:\n",
    "            break\n",
    "        else:\n",
    "            lines.append(line)        \n",
    "        \n",
    "        if i==batch:\n",
    "            path = news_dir2 + str(n) + \".txt\"\n",
    "            print(path)\n",
    "            with open(path, mode=\"w\", encoding=\"utf-8\") as output:\n",
    "                for l in lines:\n",
    "                    output.write(l.strip() + \"\\n\")\n",
    "            i=0\n",
    "            n+=1\n",
    "            lines = []\n",
    "\n",
    "# path = news_dir + str(n) + \".txt\"\n",
    "# with open(path, mode=\"w\", encoding=\"utf-8\") as output:\n",
    "#     for l in lines:\n",
    "#         output.write(l.strip() + \"\\n\")"
   ]
  },
  {
   "cell_type": "code",
   "execution_count": 1,
   "metadata": {},
   "outputs": [],
   "source": [
    "#Need to be translated to Russian."
   ]
  },
  {
   "cell_type": "code",
   "execution_count": null,
   "metadata": {},
   "outputs": [],
   "source": []
  }
 ],
 "metadata": {
  "kernelspec": {
   "display_name": "Python 3.7.4 64-bit",
   "language": "python",
   "name": "python37464bit6ddfec3d72d0445aa5d24384f848b5d9"
  },
  "language_info": {
   "codemirror_mode": {
    "name": "ipython",
    "version": 3
   },
   "file_extension": ".py",
   "mimetype": "text/x-python",
   "name": "python",
   "nbconvert_exporter": "python",
   "pygments_lexer": "ipython3",
   "version": "3.7.4"
  },
  "toc": {
   "base_numbering": 1,
   "nav_menu": {},
   "number_sections": true,
   "sideBar": true,
   "skip_h1_title": true,
   "title_cell": "Table of Contents",
   "title_sidebar": "Contents",
   "toc_cell": false,
   "toc_position": {},
   "toc_section_display": true,
   "toc_window_display": false
  }
 },
 "nbformat": 4,
 "nbformat_minor": 2
}
