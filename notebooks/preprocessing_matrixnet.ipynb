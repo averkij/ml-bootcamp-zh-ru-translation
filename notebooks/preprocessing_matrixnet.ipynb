{
 "cells": [
  {
   "cell_type": "markdown",
   "metadata": {},
   "source": [
    "# Facebook matrixnet"
   ]
  },
  {
   "cell_type": "markdown",
   "metadata": {},
   "source": [
    "Let's construct the TED subtitles dataset."
   ]
  },
  {
   "cell_type": "code",
   "execution_count": 13,
   "metadata": {},
   "outputs": [],
   "source": [
    "import re\n",
    "import numpy as np\n",
    "import pickle\n",
    "import pandas as pd\n",
    "from bs4 import BeautifulSoup\n",
    "import urllib\n",
    "import codecs\n",
    "import os,glob\n",
    "import glob\n",
    "import re\n",
    "\n",
    "from matplotlib import pyplot as plt"
   ]
  },
  {
   "cell_type": "markdown",
   "metadata": {},
   "source": [
    "### Matrixnet"
   ]
  },
  {
   "cell_type": "markdown",
   "metadata": {},
   "source": [
    "Matrix is the dataset crawled from the web and aligned with some probability.\n",
    "\n",
    "https://github.com/facebookresearch/LASER/tree/master/tasks/WikiMatrix\n",
    "\n",
    "I've taken the 30k+ sentences from it with prob=1.06 to add to the TED dataset for further evaluation."
   ]
  },
  {
   "cell_type": "code",
   "execution_count": 67,
   "metadata": {},
   "outputs": [],
   "source": [
    "mn_zh = \"D:\\\\ml\\\\matrixnet\\\\WikiMatrix.ru-zh.txt.cn\"\n",
    "mn_ru = \"D:\\\\ml\\\\matrixnet\\\\WikiMatrix.ru-zh.txt.ru\"\n",
    "mn_zh_out = \"D:\\\\ml\\\\matrixnet\\\\wm_zh.txt\"\n",
    "mn_ru_out = \"D:\\\\ml\\\\matrixnet\\\\wm_ru.txt\""
   ]
  },
  {
   "cell_type": "code",
   "execution_count": 68,
   "metadata": {},
   "outputs": [],
   "source": [
    "with open(mn_ru, mode='r', encoding='utf-8') as input_ru, open(mn_zh, mode='r', encoding='utf-8') as input_zh, \\\n",
    "        open(mn_ru_out, mode='w', encoding='utf-8') as out_ru, open(mn_zh_out, mode='w', encoding='utf-8') as out_zh:\n",
    "    zh = input_zh.readlines()\n",
    "    ru = input_ru.readlines()\n",
    "    \n",
    "    for zh,ru in zip(zh,ru):\n",
    "        if len(ru.split(' ')) > 3 & len(ru.split(' ')) < 46:\n",
    "            #print(zh, ru)\n",
    "            out_ru.write(ru)\n",
    "            out_zh.write(zh)"
   ]
  },
  {
   "cell_type": "code",
   "execution_count": 36,
   "metadata": {},
   "outputs": [],
   "source": [
    "len_zh = list(map(lambda x: len(x), [x for x in zh if len(x) < 200]))\n",
    "len_ru = list(map(lambda x: len(x), [x for x in ru if len(x) < 100]))"
   ]
  },
  {
   "cell_type": "code",
   "execution_count": 37,
   "metadata": {},
   "outputs": [
    {
     "data": {
      "text/plain": [
       "(array([ 12.,  23.,  49.,  74., 114., 188., 235., 245., 257., 293., 311.,\n",
       "        319., 342., 403., 379., 400., 372., 387., 374., 215., 423., 398.,\n",
       "        404., 419., 377., 456., 418., 443., 433., 423., 411., 466., 468.,\n",
       "        438., 454., 421., 448., 389., 399., 189., 428., 451., 385., 394.,\n",
       "        389., 412., 440., 405., 373., 417., 434., 426., 404., 364., 373.,\n",
       "        333., 309., 348., 356., 160., 366., 323., 325., 309., 307., 308.,\n",
       "        282., 277., 320., 308., 251., 258., 252., 229., 236., 242., 235.,\n",
       "        227., 222.,  98., 202., 209., 169., 182., 174., 166., 165., 148.,\n",
       "        165., 121., 143., 120., 123., 118., 124., 115.,  81.,  93., 112.,\n",
       "         97.]),\n",
       " array([  4.  ,   5.95,   7.9 ,   9.85,  11.8 ,  13.75,  15.7 ,  17.65,\n",
       "         19.6 ,  21.55,  23.5 ,  25.45,  27.4 ,  29.35,  31.3 ,  33.25,\n",
       "         35.2 ,  37.15,  39.1 ,  41.05,  43.  ,  44.95,  46.9 ,  48.85,\n",
       "         50.8 ,  52.75,  54.7 ,  56.65,  58.6 ,  60.55,  62.5 ,  64.45,\n",
       "         66.4 ,  68.35,  70.3 ,  72.25,  74.2 ,  76.15,  78.1 ,  80.05,\n",
       "         82.  ,  83.95,  85.9 ,  87.85,  89.8 ,  91.75,  93.7 ,  95.65,\n",
       "         97.6 ,  99.55, 101.5 , 103.45, 105.4 , 107.35, 109.3 , 111.25,\n",
       "        113.2 , 115.15, 117.1 , 119.05, 121.  , 122.95, 124.9 , 126.85,\n",
       "        128.8 , 130.75, 132.7 , 134.65, 136.6 , 138.55, 140.5 , 142.45,\n",
       "        144.4 , 146.35, 148.3 , 150.25, 152.2 , 154.15, 156.1 , 158.05,\n",
       "        160.  , 161.95, 163.9 , 165.85, 167.8 , 169.75, 171.7 , 173.65,\n",
       "        175.6 , 177.55, 179.5 , 181.45, 183.4 , 185.35, 187.3 , 189.25,\n",
       "        191.2 , 193.15, 195.1 , 197.05, 199.  ]),\n",
       " <a list of 100 Patch objects>)"
      ]
     },
     "execution_count": 37,
     "metadata": {},
     "output_type": "execute_result"
    },
    {
     "data": {
      "image/png": "[encoded data removed]",
      "text/plain": [
       "<Figure size 432x288 with 1 Axes>"
      ]
     },
     "metadata": {
      "needs_background": "light"
     },
     "output_type": "display_data"
    }
   ],
   "source": [
    "plt.hist(len_zh, bins=100)"
   ]
  },
  {
   "cell_type": "code",
   "execution_count": 38,
   "metadata": {},
   "outputs": [
    {
     "data": {
      "text/plain": [
       "(array([  1.,  14.,  61., 113., 349., 331., 424., 497., 537., 632., 563.,\n",
       "        621., 600., 580., 597., 617., 612., 627., 663., 604., 635., 639.,\n",
       "        657., 663., 611., 701., 649., 662., 658., 642., 592., 595., 581.,\n",
       "          0., 583., 573., 567., 544., 520., 502., 484., 467., 467., 399.,\n",
       "        443., 425., 387., 371., 373., 349., 319., 309., 295., 314., 271.,\n",
       "        260., 276., 218., 204., 200., 213., 169., 166., 171., 137., 156.,\n",
       "          0., 145., 137., 157., 116., 122., 116.,  94.,  94.,  88., 113.,\n",
       "         88.,  77.,  80.,  79.,  62.,  65.,  56.,  57.,  56.,  49.,  52.,\n",
       "         46.,  44.,  68.,  36.,  44.,  25.,  36.,  22.,  30.,  33.,  21.,\n",
       "         29.]),\n",
       " array([ 2.  ,  2.97,  3.94,  4.91,  5.88,  6.85,  7.82,  8.79,  9.76,\n",
       "        10.73, 11.7 , 12.67, 13.64, 14.61, 15.58, 16.55, 17.52, 18.49,\n",
       "        19.46, 20.43, 21.4 , 22.37, 23.34, 24.31, 25.28, 26.25, 27.22,\n",
       "        28.19, 29.16, 30.13, 31.1 , 32.07, 33.04, 34.01, 34.98, 35.95,\n",
       "        36.92, 37.89, 38.86, 39.83, 40.8 , 41.77, 42.74, 43.71, 44.68,\n",
       "        45.65, 46.62, 47.59, 48.56, 49.53, 50.5 , 51.47, 52.44, 53.41,\n",
       "        54.38, 55.35, 56.32, 57.29, 58.26, 59.23, 60.2 , 61.17, 62.14,\n",
       "        63.11, 64.08, 65.05, 66.02, 66.99, 67.96, 68.93, 69.9 , 70.87,\n",
       "        71.84, 72.81, 73.78, 74.75, 75.72, 76.69, 77.66, 78.63, 79.6 ,\n",
       "        80.57, 81.54, 82.51, 83.48, 84.45, 85.42, 86.39, 87.36, 88.33,\n",
       "        89.3 , 90.27, 91.24, 92.21, 93.18, 94.15, 95.12, 96.09, 97.06,\n",
       "        98.03, 99.  ]),\n",
       " <a list of 100 Patch objects>)"
      ]
     },
     "execution_count": 38,
     "metadata": {},
     "output_type": "execute_result"
    },
    {
     "data": {
      "image/png": "[encoded data removed]",
      "text/plain": [
       "<Figure size 432x288 with 1 Axes>"
      ]
     },
     "metadata": {
      "needs_background": "light"
     },
     "output_type": "display_data"
    }
   ],
   "source": [
    "plt.hist(len_ru, bins=100)"
   ]
  },
  {
   "cell_type": "code",
   "execution_count": 1,
   "metadata": {},
   "outputs": [],
   "source": [
    "#Seems to e traditional characters."
   ]
  }
 ],
 "metadata": {
  "kernelspec": {
   "display_name": "Python 3.7.4 64-bit",
   "language": "python",
   "name": "python37464bit6ddfec3d72d0445aa5d24384f848b5d9"
  },
  "language_info": {
   "codemirror_mode": {
    "name": "ipython",
    "version": 3
   },
   "file_extension": ".py",
   "mimetype": "text/x-python",
   "name": "python",
   "nbconvert_exporter": "python",
   "pygments_lexer": "ipython3",
   "version": "3.7.4"
  },
  "toc": {
   "base_numbering": 1,
   "nav_menu": {},
   "number_sections": true,
   "sideBar": true,
   "skip_h1_title": true,
   "title_cell": "Table of Contents",
   "title_sidebar": "Contents",
   "toc_cell": false,
   "toc_position": {},
   "toc_section_display": true,
   "toc_window_display": false
  }
 },
 "nbformat": 4,
 "nbformat_minor": 2
}
