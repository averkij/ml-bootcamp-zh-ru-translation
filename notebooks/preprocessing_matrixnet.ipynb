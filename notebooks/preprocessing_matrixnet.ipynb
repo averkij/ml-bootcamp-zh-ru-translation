{
 "cells": [
  {
   "cell_type": "markdown",
   "metadata": {},
   "source": [
    "# Facebook matrixnet"
   ]
  },
  {
   "cell_type": "markdown",
   "metadata": {},
   "source": [
    "Let's construct the TED subtitles dataset."
   ]
  },
  {
   "cell_type": "code",
   "execution_count": 1,
   "metadata": {},
   "outputs": [],
   "source": [
    "import re\n",
    "import numpy as np\n",
    "import pickle\n",
    "import pandas as pd\n",
    "from bs4 import BeautifulSoup\n",
    "import urllib\n",
    "import codecs\n",
    "import os,glob\n",
    "import glob\n",
    "import re\n",
    "\n",
    "from matplotlib import pyplot as plt"
   ]
  },
  {
   "cell_type": "markdown",
   "metadata": {},
   "source": [
    "### Matrixnet"
   ]
  },
  {
   "cell_type": "markdown",
   "metadata": {},
   "source": [
    "Matrix is the dataset crawled from the web and aligned with some probability.\n",
    "\n",
    "https://github.com/facebookresearch/LASER/tree/master/tasks/WikiMatrix\n",
    "\n",
    "I've taken the 30k+ sentences from it with prob=1.06 to add to the TED dataset for further evaluation."
   ]
  },
  {
   "cell_type": "code",
   "execution_count": 2,
   "metadata": {},
   "outputs": [],
   "source": [
    "mn_zh = \"D:\\\\ml\\\\matrixnet\\\\WikiMatrix.ru-zh.txt.cn\"\n",
    "mn_ru = \"D:\\\\ml\\\\matrixnet\\\\WikiMatrix.ru-zh.txt.ru\"\n",
    "mn_zh_out = \"D:\\\\ml\\\\matrixnet\\\\wm_zh.txt\"\n",
    "mn_ru_out = \"D:\\\\ml\\\\matrixnet\\\\wm_ru.txt\""
   ]
  },
  {
   "cell_type": "code",
   "execution_count": 15,
   "metadata": {},
   "outputs": [
    {
     "name": "stdout",
     "output_type": "stream",
     "text": [
      "Им чужды ложь и неблагодарность».\n",
      "\n",
      "他们否认控罪。\n",
      "\n",
      "Степень истины означает степень, с которой утверждение истинно.\n",
      "\n",
      "恕者，即本于其内在之忠。\n",
      "\n",
      "Збраньки (укр.\n",
      "\n",
      "但被其否认。\n",
      "\n",
      "Но вам лучше поститься, если бы вы только знали!\n",
      "\n",
      "斋戒对于你们更好，如果你们知道。\n",
      "\n",
      "Он отверг такое утверждение.\n",
      "\n",
      "后来这个推论被否认。\n",
      "\n",
      "Любознательность (любознательность — любовь к знанию) приводит познающие разумные, и осознающие свою разумность, существа к знанию.\n",
      "\n",
      "人物 宗室仁寿，清朝睿僖亲王。\n",
      "\n",
      "(«Мир!\n",
      "\n",
      "郑亮，郑安世子。\n",
      "\n",
      "В ней — осуждение тех, которые отрицали Коран.\n",
      "\n",
      "惟当事人已否认。\n",
      "\n",
      "(Когда человек) клянется, (заведомо) меняя известное, явное, (например), о каменном столбе (говорит), что он золотой .\n",
      "\n",
      "掷金立誓一事，从此传闻于乡里，成为美谈。\n",
      "\n",
      "Ступайте же по земле и посмотрите, каким был конец неверующих.\n",
      "\n",
      "故你们当在大地上旅行，应当观察否认（使者）的人们的结局是怎样的。\n",
      "\n",
      "Мы не только превратили их в плотоядных (животных), мы превратили их в каннибалов.\n",
      "\n",
      "我曾降大雨去伤他们，你看看犯罪者的结局是怎样的。\n",
      "\n",
      "Ведь Аллах над всем сущим властен.\n",
      "\n",
      "真主对于万事确是全能的。\n",
      "\n",
      "根岸 孝旨 Нэгиси Такамунэ) (Dr.StrangeLove) — бас; Гота Ясики (яп.\n",
      "\n",
      "孟津大誓，常预同德之臣；咸阳违约，克赞先登之主。\n",
      "\n",
      "Группа 13 имела также собственную тюрьму.\n",
      "\n",
      "13号小组还有自己的监狱。\n",
      "\n",
      "Таково предписание Аллаха.\n",
      "\n",
      "根据这个传统，渗渗泉是真主恩赐的。\n",
      "\n",
      "Клянясь ему в верности, при первой же возможности они отвернутся.\n",
      "\n",
      "胡琏当时向吴氏发誓，将来发达一定要报答她。\n",
      "\n"
     ]
    }
   ],
   "source": [
    "from hanziconv import HanziConv\n",
    "\n",
    "with open(mn_ru, mode='r', encoding='utf-8') as input_ru, open(mn_zh, mode='r', encoding='utf-8') as input_zh, \\\n",
    "        open(mn_ru_out, mode='w', encoding='utf-8') as out_ru, open(mn_zh_out, mode='w', encoding='utf-8') as out_zh:\n",
    "    zh = input_zh.readlines()\n",
    "    ru = input_ru.readlines()\n",
    "    \n",
    "    count = 0\n",
    "    for zh,ru in zip(zh,ru):\n",
    "        count +=1\n",
    "#         if len(ru.split(' ')) > 3 & len(ru.split(' ')) < 46:\n",
    "        zh = HanziConv.toSimplified(zh)\n",
    "        print(ru)\n",
    "        print(zh)\n",
    "        if count>15:\n",
    "            break\n",
    "        out_ru.write(ru)\n",
    "        out_zh.write(zh)"
   ]
  },
  {
   "cell_type": "code",
   "execution_count": 9,
   "metadata": {},
   "outputs": [
    {
     "data": {
      "text/plain": [
       "<_io.TextIOWrapper name='D:\\\\ml\\\\matrixnet\\\\wm_ru.txt' mode='w' encoding='utf-8'>"
      ]
     },
     "execution_count": 9,
     "metadata": {},
     "output_type": "execute_result"
    }
   ],
   "source": [
    "out_ru"
   ]
  },
  {
   "cell_type": "code",
   "execution_count": 4,
   "metadata": {},
   "outputs": [],
   "source": [
    "len_zh = list(map(lambda x: len(x), [x for x in zh if len(x) < 200]))\n",
    "len_ru = list(map(lambda x: len(x), [x for x in ru if len(x) < 100]))"
   ]
  },
  {
   "cell_type": "code",
   "execution_count": 5,
   "metadata": {},
   "outputs": [
    {
     "data": {
      "text/plain": [
       "(array([ 0.,  0.,  0.,  0.,  0.,  0.,  0.,  0.,  0.,  0.,  0.,  0.,  0.,\n",
       "         0.,  0.,  0.,  0.,  0.,  0.,  0.,  0.,  0.,  0.,  0.,  0.,  0.,\n",
       "         0.,  0.,  0.,  0.,  0.,  0.,  0.,  0.,  0.,  0.,  0.,  0.,  0.,\n",
       "         0.,  0.,  0.,  0.,  0.,  0.,  0.,  0.,  0.,  0.,  0., 55.,  0.,\n",
       "         0.,  0.,  0.,  0.,  0.,  0.,  0.,  0.,  0.,  0.,  0.,  0.,  0.,\n",
       "         0.,  0.,  0.,  0.,  0.,  0.,  0.,  0.,  0.,  0.,  0.,  0.,  0.,\n",
       "         0.,  0.,  0.,  0.,  0.,  0.,  0.,  0.,  0.,  0.,  0.,  0.,  0.,\n",
       "         0.,  0.,  0.,  0.,  0.,  0.,  0.,  0.,  0.]),\n",
       " array([0.5 , 0.51, 0.52, 0.53, 0.54, 0.55, 0.56, 0.57, 0.58, 0.59, 0.6 ,\n",
       "        0.61, 0.62, 0.63, 0.64, 0.65, 0.66, 0.67, 0.68, 0.69, 0.7 , 0.71,\n",
       "        0.72, 0.73, 0.74, 0.75, 0.76, 0.77, 0.78, 0.79, 0.8 , 0.81, 0.82,\n",
       "        0.83, 0.84, 0.85, 0.86, 0.87, 0.88, 0.89, 0.9 , 0.91, 0.92, 0.93,\n",
       "        0.94, 0.95, 0.96, 0.97, 0.98, 0.99, 1.  , 1.01, 1.02, 1.03, 1.04,\n",
       "        1.05, 1.06, 1.07, 1.08, 1.09, 1.1 , 1.11, 1.12, 1.13, 1.14, 1.15,\n",
       "        1.16, 1.17, 1.18, 1.19, 1.2 , 1.21, 1.22, 1.23, 1.24, 1.25, 1.26,\n",
       "        1.27, 1.28, 1.29, 1.3 , 1.31, 1.32, 1.33, 1.34, 1.35, 1.36, 1.37,\n",
       "        1.38, 1.39, 1.4 , 1.41, 1.42, 1.43, 1.44, 1.45, 1.46, 1.47, 1.48,\n",
       "        1.49, 1.5 ]),\n",
       " <a list of 100 Patch objects>)"
      ]
     },
     "execution_count": 5,
     "metadata": {},
     "output_type": "execute_result"
    },
    {
     "data": {
      "image/png": "[encoded data removed]",
      "text/plain": [
       "<Figure size 432x288 with 1 Axes>"
      ]
     },
     "metadata": {
      "needs_background": "light"
     },
     "output_type": "display_data"
    }
   ],
   "source": [
    "plt.hist(len_zh, bins=100)"
   ]
  },
  {
   "cell_type": "code",
   "execution_count": 6,
   "metadata": {},
   "outputs": [
    {
     "data": {
      "text/plain": [
       "(array([  0.,   0.,   0.,   0.,   0.,   0.,   0.,   0.,   0.,   0.,   0.,\n",
       "          0.,   0.,   0.,   0.,   0.,   0.,   0.,   0.,   0.,   0.,   0.,\n",
       "          0.,   0.,   0.,   0.,   0.,   0.,   0.,   0.,   0.,   0.,   0.,\n",
       "          0.,   0.,   0.,   0.,   0.,   0.,   0.,   0.,   0.,   0.,   0.,\n",
       "          0.,   0.,   0.,   0.,   0.,   0., 222.,   0.,   0.,   0.,   0.,\n",
       "          0.,   0.,   0.,   0.,   0.,   0.,   0.,   0.,   0.,   0.,   0.,\n",
       "          0.,   0.,   0.,   0.,   0.,   0.,   0.,   0.,   0.,   0.,   0.,\n",
       "          0.,   0.,   0.,   0.,   0.,   0.,   0.,   0.,   0.,   0.,   0.,\n",
       "          0.,   0.,   0.,   0.,   0.,   0.,   0.,   0.,   0.,   0.,   0.,\n",
       "          0.]),\n",
       " array([0.5 , 0.51, 0.52, 0.53, 0.54, 0.55, 0.56, 0.57, 0.58, 0.59, 0.6 ,\n",
       "        0.61, 0.62, 0.63, 0.64, 0.65, 0.66, 0.67, 0.68, 0.69, 0.7 , 0.71,\n",
       "        0.72, 0.73, 0.74, 0.75, 0.76, 0.77, 0.78, 0.79, 0.8 , 0.81, 0.82,\n",
       "        0.83, 0.84, 0.85, 0.86, 0.87, 0.88, 0.89, 0.9 , 0.91, 0.92, 0.93,\n",
       "        0.94, 0.95, 0.96, 0.97, 0.98, 0.99, 1.  , 1.01, 1.02, 1.03, 1.04,\n",
       "        1.05, 1.06, 1.07, 1.08, 1.09, 1.1 , 1.11, 1.12, 1.13, 1.14, 1.15,\n",
       "        1.16, 1.17, 1.18, 1.19, 1.2 , 1.21, 1.22, 1.23, 1.24, 1.25, 1.26,\n",
       "        1.27, 1.28, 1.29, 1.3 , 1.31, 1.32, 1.33, 1.34, 1.35, 1.36, 1.37,\n",
       "        1.38, 1.39, 1.4 , 1.41, 1.42, 1.43, 1.44, 1.45, 1.46, 1.47, 1.48,\n",
       "        1.49, 1.5 ]),\n",
       " <a list of 100 Patch objects>)"
      ]
     },
     "execution_count": 6,
     "metadata": {},
     "output_type": "execute_result"
    },
    {
     "data": {
      "image/png": "[encoded data removed]",
      "text/plain": [
       "<Figure size 432x288 with 1 Axes>"
      ]
     },
     "metadata": {
      "needs_background": "light"
     },
     "output_type": "display_data"
    }
   ],
   "source": [
    "plt.hist(len_ru, bins=100)"
   ]
  },
  {
   "cell_type": "code",
   "execution_count": 1,
   "metadata": {},
   "outputs": [],
   "source": [
    "#Seems to e traditional characters."
   ]
  }
 ],
 "metadata": {
  "kernelspec": {
   "display_name": "Python 3.8.2 64-bit",
   "language": "python",
   "name": "python38264bit6a1a1228bf2f47adba44e2e25f240908"
  },
  "language_info": {
   "codemirror_mode": {
    "name": "ipython",
    "version": 3
   },
   "file_extension": ".py",
   "mimetype": "text/x-python",
   "name": "python",
   "nbconvert_exporter": "python",
   "pygments_lexer": "ipython3",
   "version": "3.8.2"
  },
  "toc": {
   "base_numbering": 1,
   "nav_menu": {},
   "number_sections": true,
   "sideBar": true,
   "skip_h1_title": true,
   "title_cell": "Table of Contents",
   "title_sidebar": "Contents",
   "toc_cell": false,
   "toc_position": {},
   "toc_section_display": true,
   "toc_window_display": false
  }
 },
 "nbformat": 4,
 "nbformat_minor": 2
}
