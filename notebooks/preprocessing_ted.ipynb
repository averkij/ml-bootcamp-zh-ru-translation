{
 "cells": [
  {
   "cell_type": "markdown",
   "metadata": {},
   "source": [
    "# Parallel TED subtitles dataset"
   ]
  },
  {
   "cell_type": "markdown",
   "metadata": {},
   "source": [
    "Let's construct the TED subtitles dataset."
   ]
  },
  {
   "cell_type": "code",
   "execution_count": 1,
   "metadata": {},
   "outputs": [],
   "source": [
    "import re\n",
    "import numpy as np\n",
    "import pickle\n",
    "import pandas as pd\n",
    "from bs4 import BeautifulSoup\n",
    "import urllib\n",
    "import codecs\n",
    "import os,glob\n",
    "import glob\n",
    "import re\n",
    "\n",
    "#natasha Russian word tokenizer\n",
    "from razdel import tokenize\n",
    "\n",
    "#Chienese word tokenizer\n",
    "import jieba"
   ]
  },
  {
   "cell_type": "code",
   "execution_count": 243,
   "metadata": {},
   "outputs": [
    {
     "data": {
      "text/plain": [
       "['但',\n",
       " '有',\n",
       " '個',\n",
       " '聲音',\n",
       " '不斷',\n",
       " '喚著',\n",
       " '我',\n",
       " '：',\n",
       " '「',\n",
       " '拜',\n",
       " '託',\n",
       " '，',\n",
       " '堅持',\n",
       " '下去',\n",
       " '。']"
      ]
     },
     "execution_count": 243,
     "metadata": {},
     "output_type": "execute_result"
    }
   ],
   "source": [
    "jieba.lcut(\"但有個聲音不斷喚著我：「拜託，堅持下去。\")"
   ]
  },
  {
   "cell_type": "markdown",
   "metadata": {},
   "source": [
    "### At first let's try to get transriptions from the official site (not working)."
   ]
  },
  {
   "cell_type": "code",
   "execution_count": 82,
   "metadata": {},
   "outputs": [],
   "source": [
    "def enlist_talk_names(path,dict_):\n",
    "    with urllib.request.urlopen(path) as url:\n",
    "        r = url.read()\n",
    "        soup = BeautifulSoup(r)\n",
    "        talks= soup.find_all(\"a\",class_='')\n",
    "        for i in talks:\n",
    "            if i.attrs['href'].find('/talks/')==0 and dict_.get(i.attrs['href'])!=1:\n",
    "                dict_[i.attrs['href']]=1\n",
    "\n",
    "    return dict_"
   ]
  },
  {
   "cell_type": "code",
   "execution_count": 76,
   "metadata": {},
   "outputs": [],
   "source": [
    "#all_talk_names={}\n",
    "#for i in range(1,10000):\n",
    "#    path='https://www.ted.com/talks?page=%d'%(i)\n",
    "#    all_talk_names=enlist_talk_names(path,all_talk_names)"
   ]
  },
  {
   "cell_type": "code",
   "execution_count": null,
   "metadata": {},
   "outputs": [],
   "source": [
    "def extract_talk(path,talk_name):\n",
    "    r=urllib.urlopen(path).read()\n",
    "    soup=BeautifulSoup(r)\n",
    "    df=pd.DataFrame()\n",
    "    print(path)\n",
    "    for i in soup.findAll('link'):\n",
    "        if i.get('href')!=None and i.attrs['href'].find('?language=')!=-1:\n",
    "            lang=i.attrs['hreflang']\n",
    "            path=i.attrs['href']\n",
    "            r1=urllib.urlopen(path).read()\n",
    "            soup1=BeautifulSoup(r1)\n",
    "            time_frame=[]\n",
    "            text_talk=[]\n",
    "            for i in soup1.findAll('span',class_='talk-transcript__fragment'):\n",
    "                time_frame.append(i.attrs['data-time'])\n",
    "                text_talk.append(i.text.replace('\\n',' '))\n",
    "            #print len(time_frame),len(text_talk)\n",
    "            df1=pd.DataFrame()\n",
    "            df1[lang]=text_talk\n",
    "            df1[lang+'_time_frame']=time_frame\n",
    "            df=pd.concat([df,df1],axis=1)\n",
    "    df.to_csv(talk_name+'.csv',sep='\\t',encoding='utf-8')"
   ]
  },
  {
   "cell_type": "code",
   "execution_count": 80,
   "metadata": {},
   "outputs": [],
   "source": [
    "for i in all_talk_names:\n",
    "    extract_talk('https://www.ted.com'+i+'/transcript',i[7:])"
   ]
  },
  {
   "cell_type": "markdown",
   "metadata": {},
   "source": [
    "TED is blocking multiple connections. Let's find another way."
   ]
  },
  {
   "cell_type": "markdown",
   "metadata": {},
   "source": [
    "### Search parallel corpuses on Github (not working)"
   ]
  },
  {
   "cell_type": "markdown",
   "metadata": {},
   "source": [
    "Corpus at this link seems to be great. \n",
    "\n",
    "https://github.com/ajinkyakulkarni14/TED-Multilingual-Parallel-Corpus/tree/master/Bilingual_Parallel_Corpus"
   ]
  },
  {
   "cell_type": "code",
   "execution_count": 50,
   "metadata": {},
   "outputs": [],
   "source": [
    "corpus1 = pd.read_csv('D:\\ml\\zh-ru\\parallel_corpus_1.txt', delimiter=':', names=['sent_id','lang_code','text'])\n",
    "corpus2 = pd.read_csv('D:\\ml\\zh-ru\\parallel_corpus_2.txt', delimiter=':', names=['sent_id','lang_code','text'])"
   ]
  },
  {
   "cell_type": "code",
   "execution_count": 56,
   "metadata": {
    "scrolled": true
   },
   "outputs": [
    {
     "data": {
      "text/html": [
       "<div>\n",
       "<style scoped>\n",
       "    .dataframe tbody tr th:only-of-type {\n",
       "        vertical-align: middle;\n",
       "    }\n",
       "\n",
       "    .dataframe tbody tr th {\n",
       "        vertical-align: top;\n",
       "    }\n",
       "\n",
       "    .dataframe thead th {\n",
       "        text-align: right;\n",
       "    }\n",
       "</style>\n",
       "<table border=\"1\" class=\"dataframe\">\n",
       "  <thead>\n",
       "    <tr style=\"text-align: right;\">\n",
       "      <th></th>\n",
       "      <th>sent_id</th>\n",
       "      <th>lang_code</th>\n",
       "      <th>text</th>\n",
       "    </tr>\n",
       "  </thead>\n",
       "  <tbody>\n",
       "    <tr>\n",
       "      <th>1376490</th>\n",
       "      <td>132112</td>\n",
       "      <td>ar</td>\n",
       "      <td>و هم الآن يصنعون خليطا,</td>\n",
       "    </tr>\n",
       "    <tr>\n",
       "      <th>1376491</th>\n",
       "      <td>132112</td>\n",
       "      <td>nl</td>\n",
       "      <td>Ze zijn nu bezig een cocktail,</td>\n",
       "    </tr>\n",
       "    <tr>\n",
       "      <th>1376492</th>\n",
       "      <td>132112</td>\n",
       "      <td>fr</td>\n",
       "      <td>Ils développent actuellement un cocktail,</td>\n",
       "    </tr>\n",
       "    <tr>\n",
       "      <th>1376493</th>\n",
       "      <td>132112</td>\n",
       "      <td>de</td>\n",
       "      <td>Sie machen gerade einen Cocktail,</td>\n",
       "    </tr>\n",
       "    <tr>\n",
       "      <th>1376494</th>\n",
       "      <td>132112</td>\n",
       "      <td>he</td>\n",
       "      <td>כיום הם מייצרים קוקטייל,</td>\n",
       "    </tr>\n",
       "    <tr>\n",
       "      <th>1376495</th>\n",
       "      <td>132112</td>\n",
       "      <td>it</td>\n",
       "      <td>In questo momento si stanno preparando</td>\n",
       "    </tr>\n",
       "    <tr>\n",
       "      <th>1376496</th>\n",
       "      <td>132112</td>\n",
       "      <td>ru</td>\n",
       "      <td>Они сейчас готовят коктейль</td>\n",
       "    </tr>\n",
       "    <tr>\n",
       "      <th>1376497</th>\n",
       "      <td>132112</td>\n",
       "      <td>es</td>\n",
       "      <td>Actualmente están haciendo un cóctel,</td>\n",
       "    </tr>\n",
       "    <tr>\n",
       "      <th>1376498</th>\n",
       "      <td>132112</td>\n",
       "      <td>ar</td>\n",
       "      <td>و هم الآن يصنعون خليطا,</td>\n",
       "    </tr>\n",
       "    <tr>\n",
       "      <th>1376499</th>\n",
       "      <td>132112</td>\n",
       "      <td>pt-br</td>\n",
       "      <td>Atualmente eles estão fazendo um coquetel,</td>\n",
       "    </tr>\n",
       "  </tbody>\n",
       "</table>\n",
       "</div>"
      ],
      "text/plain": [
       "        sent_id lang_code                                        text\n",
       "1376490  132112        ar                     و هم الآن يصنعون خليطا,\n",
       "1376491  132112        nl              Ze zijn nu bezig een cocktail,\n",
       "1376492  132112        fr   Ils développent actuellement un cocktail,\n",
       "1376493  132112        de           Sie machen gerade einen Cocktail,\n",
       "1376494  132112        he                    כיום הם מייצרים קוקטייל,\n",
       "1376495  132112        it      In questo momento si stanno preparando\n",
       "1376496  132112        ru                 Они сейчас готовят коктейль\n",
       "1376497  132112        es       Actualmente están haciendo un cóctel,\n",
       "1376498  132112        ar                     و هم الآن يصنعون خليطا,\n",
       "1376499  132112     pt-br  Atualmente eles estão fazendo um coquetel,"
      ]
     },
     "execution_count": 56,
     "metadata": {},
     "output_type": "execute_result"
    }
   ],
   "source": [
    "corpus1[corpus1.sent_id == \"132112\"]"
   ]
  },
  {
   "cell_type": "code",
   "execution_count": 57,
   "metadata": {},
   "outputs": [
    {
     "data": {
      "text/html": [
       "<div>\n",
       "<style scoped>\n",
       "    .dataframe tbody tr th:only-of-type {\n",
       "        vertical-align: middle;\n",
       "    }\n",
       "\n",
       "    .dataframe tbody tr th {\n",
       "        vertical-align: top;\n",
       "    }\n",
       "\n",
       "    .dataframe thead th {\n",
       "        text-align: right;\n",
       "    }\n",
       "</style>\n",
       "<table border=\"1\" class=\"dataframe\">\n",
       "  <thead>\n",
       "    <tr style=\"text-align: right;\">\n",
       "      <th></th>\n",
       "      <th>sent_id</th>\n",
       "      <th>lang_code</th>\n",
       "      <th>text</th>\n",
       "    </tr>\n",
       "  </thead>\n",
       "  <tbody>\n",
       "    <tr>\n",
       "      <th>555789</th>\n",
       "      <td>132112</td>\n",
       "      <td>zh-cn</td>\n",
       "      <td>但是有一个声音一直在呼唤我：“来，别离开我。“</td>\n",
       "    </tr>\n",
       "    <tr>\n",
       "      <th>555790</th>\n",
       "      <td>132112</td>\n",
       "      <td>zh-tw</td>\n",
       "      <td>但有個聲音不斷喚著我：「拜託，堅持下去。」</td>\n",
       "    </tr>\n",
       "    <tr>\n",
       "      <th>555791</th>\n",
       "      <td>132112</td>\n",
       "      <td>ja</td>\n",
       "      <td>でも別の声が言います</td>\n",
       "    </tr>\n",
       "    <tr>\n",
       "      <th>555793</th>\n",
       "      <td>132112</td>\n",
       "      <td>ko</td>\n",
       "      <td>하지만 또다른 목소리가</td>\n",
       "    </tr>\n",
       "  </tbody>\n",
       "</table>\n",
       "</div>"
      ],
      "text/plain": [
       "       sent_id lang_code                     text\n",
       "555789  132112     zh-cn  但是有一个声音一直在呼唤我：“来，别离开我。“\n",
       "555790  132112     zh-tw    但有個聲音不斷喚著我：「拜託，堅持下去。」\n",
       "555791  132112        ja               でも別の声が言います\n",
       "555793  132112        ko             하지만 또다른 목소리가"
      ]
     },
     "execution_count": 57,
     "metadata": {},
     "output_type": "execute_result"
    }
   ],
   "source": [
    "corpus2[corpus2.sent_id == \"132112\"]"
   ]
  },
  {
   "cell_type": "code",
   "execution_count": 53,
   "metadata": {
    "scrolled": true
   },
   "outputs": [
    {
     "data": {
      "text/html": [
       "<div>\n",
       "<style scoped>\n",
       "    .dataframe tbody tr th:only-of-type {\n",
       "        vertical-align: middle;\n",
       "    }\n",
       "\n",
       "    .dataframe tbody tr th {\n",
       "        vertical-align: top;\n",
       "    }\n",
       "\n",
       "    .dataframe thead th {\n",
       "        text-align: right;\n",
       "    }\n",
       "</style>\n",
       "<table border=\"1\" class=\"dataframe\">\n",
       "  <thead>\n",
       "    <tr style=\"text-align: right;\">\n",
       "      <th></th>\n",
       "      <th>sent_id</th>\n",
       "      <th>lang_code</th>\n",
       "      <th>text</th>\n",
       "    </tr>\n",
       "  </thead>\n",
       "  <tbody>\n",
       "    <tr>\n",
       "      <th>0</th>\n",
       "      <td>1</td>\n",
       "      <td>ar</td>\n",
       "      <td>بالنسبة لي، تبدأ هذه القصة قبل حوالي 15 عاماً ...</td>\n",
       "    </tr>\n",
       "    <tr>\n",
       "      <th>1</th>\n",
       "      <td>1</td>\n",
       "      <td>nl</td>\n",
       "      <td>Voor mij begint dit verhaal ongeveer 15 jaar g...</td>\n",
       "    </tr>\n",
       "    <tr>\n",
       "      <th>2</th>\n",
       "      <td>1</td>\n",
       "      <td>fr</td>\n",
       "      <td>Pour moi, cette histoire a commencé il y a 15 ...</td>\n",
       "    </tr>\n",
       "    <tr>\n",
       "      <th>3</th>\n",
       "      <td>1</td>\n",
       "      <td>de</td>\n",
       "      <td>Für mich beginnt diese Geschichte vor ungefähr...</td>\n",
       "    </tr>\n",
       "    <tr>\n",
       "      <th>4</th>\n",
       "      <td>1</td>\n",
       "      <td>he</td>\n",
       "      <td>עבורי, הסיפור הזה התחיל בערך לפני 15 שנים,</td>\n",
       "    </tr>\n",
       "  </tbody>\n",
       "</table>\n",
       "</div>"
      ],
      "text/plain": [
       "  sent_id lang_code                                               text\n",
       "0       1        ar  بالنسبة لي، تبدأ هذه القصة قبل حوالي 15 عاماً ...\n",
       "1       1        nl  Voor mij begint dit verhaal ongeveer 15 jaar g...\n",
       "2       1        fr  Pour moi, cette histoire a commencé il y a 15 ...\n",
       "3       1        de  Für mich beginnt diese Geschichte vor ungefähr...\n",
       "4       1        he         עבורי, הסיפור הזה התחיל בערך לפני 15 שנים,"
      ]
     },
     "execution_count": 53,
     "metadata": {},
     "output_type": "execute_result"
    }
   ],
   "source": [
    "corpus1.head()"
   ]
  },
  {
   "cell_type": "code",
   "execution_count": 18,
   "metadata": {},
   "outputs": [
    {
     "data": {
      "text/html": [
       "<div>\n",
       "<style scoped>\n",
       "    .dataframe tbody tr th:only-of-type {\n",
       "        vertical-align: middle;\n",
       "    }\n",
       "\n",
       "    .dataframe tbody tr th {\n",
       "        vertical-align: top;\n",
       "    }\n",
       "\n",
       "    .dataframe thead th {\n",
       "        text-align: right;\n",
       "    }\n",
       "</style>\n",
       "<table border=\"1\" class=\"dataframe\">\n",
       "  <thead>\n",
       "    <tr style=\"text-align: right;\">\n",
       "      <th></th>\n",
       "      <th>sent_id</th>\n",
       "      <th>lang_code</th>\n",
       "      <th>text</th>\n",
       "    </tr>\n",
       "  </thead>\n",
       "  <tbody>\n",
       "    <tr>\n",
       "      <th>0</th>\n",
       "      <td>1</td>\n",
       "      <td>zh-cn</td>\n",
       "      <td>对于我来说，这个故事是15年前开始的。</td>\n",
       "    </tr>\n",
       "    <tr>\n",
       "      <th>1</th>\n",
       "      <td>1</td>\n",
       "      <td>zh-tw</td>\n",
       "      <td>大約15年前</td>\n",
       "    </tr>\n",
       "    <tr>\n",
       "      <th>2</th>\n",
       "      <td>1</td>\n",
       "      <td>ja</td>\n",
       "      <td>話は15年前にさかのぼります</td>\n",
       "    </tr>\n",
       "    <tr>\n",
       "      <th>3</th>\n",
       "      <td>1</td>\n",
       "      <td>ko</td>\n",
       "      <td>제게 있어서, 이 이야기는 15년 전에 시작했죠,</td>\n",
       "    </tr>\n",
       "    <tr>\n",
       "      <th>4</th>\n",
       "      <td>2</td>\n",
       "      <td>zh-cn</td>\n",
       "      <td>当时我是芝加哥大学安养院的医生，</td>\n",
       "    </tr>\n",
       "  </tbody>\n",
       "</table>\n",
       "</div>"
      ],
      "text/plain": [
       "  sent_id lang_code                         text\n",
       "0       1     zh-cn          对于我来说，这个故事是15年前开始的。\n",
       "1       1     zh-tw                       大約15年前\n",
       "2       1        ja               話は15年前にさかのぼります\n",
       "3       1        ko  제게 있어서, 이 이야기는 15년 전에 시작했죠,\n",
       "4       2     zh-cn             当时我是芝加哥大学安养院的医生，"
      ]
     },
     "execution_count": 18,
     "metadata": {},
     "output_type": "execute_result"
    }
   ],
   "source": [
    "corpus2.head()"
   ]
  },
  {
   "cell_type": "code",
   "execution_count": 59,
   "metadata": {},
   "outputs": [
    {
     "data": {
      "text/plain": [
       "(345542, 3)"
      ]
     },
     "execution_count": 59,
     "metadata": {},
     "output_type": "execute_result"
    }
   ],
   "source": [
    "corpus1[corpus1.lang_code == 'ru'].shape"
   ]
  },
  {
   "cell_type": "code",
   "execution_count": 24,
   "metadata": {},
   "outputs": [
    {
     "data": {
      "text/plain": [
       "(384109, 3)"
      ]
     },
     "execution_count": 24,
     "metadata": {},
     "output_type": "execute_result"
    }
   ],
   "source": [
    "corpus2[corpus2.lang_code == 'zh-cn'].shape"
   ]
  },
  {
   "cell_type": "code",
   "execution_count": 39,
   "metadata": {},
   "outputs": [],
   "source": [
    "zhru_df = pd.merge(corpus1[corpus1.lang_code == 'ru'].loc[:,['sent_id', 'text']], \\\n",
    "                   corpus2[corpus2.lang_code == 'zh-cn'].loc[:,['sent_id', 'text']], on='sent_id')\n",
    "\n",
    "zhru_df.columns = ['sent_id', 'ru','zh']"
   ]
  },
  {
   "cell_type": "code",
   "execution_count": 60,
   "metadata": {
    "scrolled": true
   },
   "outputs": [
    {
     "data": {
      "text/html": [
       "<div>\n",
       "<style scoped>\n",
       "    .dataframe tbody tr th:only-of-type {\n",
       "        vertical-align: middle;\n",
       "    }\n",
       "\n",
       "    .dataframe tbody tr th {\n",
       "        vertical-align: top;\n",
       "    }\n",
       "\n",
       "    .dataframe thead th {\n",
       "        text-align: right;\n",
       "    }\n",
       "</style>\n",
       "<table border=\"1\" class=\"dataframe\">\n",
       "  <thead>\n",
       "    <tr style=\"text-align: right;\">\n",
       "      <th></th>\n",
       "      <th>sent_id</th>\n",
       "      <th>ru</th>\n",
       "      <th>zh</th>\n",
       "    </tr>\n",
       "  </thead>\n",
       "  <tbody>\n",
       "    <tr>\n",
       "      <th>0</th>\n",
       "      <td>1</td>\n",
       "      <td>Для меня всё началось лет 15 тому назад, когда...</td>\n",
       "      <td>对于我来说，这个故事是15年前开始的。</td>\n",
       "    </tr>\n",
       "    <tr>\n",
       "      <th>1</th>\n",
       "      <td>2</td>\n",
       "      <td>в хосписе при Чикагском Университете.</td>\n",
       "      <td>当时我是芝加哥大学安养院的医生，</td>\n",
       "    </tr>\n",
       "    <tr>\n",
       "      <th>2</th>\n",
       "      <td>3</td>\n",
       "      <td>Я оказывал помощь умирающим и их семьям</td>\n",
       "      <td>在芝加哥的南边地区</td>\n",
       "    </tr>\n",
       "    <tr>\n",
       "      <th>3</th>\n",
       "      <td>4</td>\n",
       "      <td>в районе Саут Сайд города Чикаго.</td>\n",
       "      <td>照顾临终的病人和他们的亲属。</td>\n",
       "    </tr>\n",
       "    <tr>\n",
       "      <th>4</th>\n",
       "      <td>5</td>\n",
       "      <td>И я видел, что происходит на конечной стадии з...</td>\n",
       "      <td>我借此来观察疾病晚期</td>\n",
       "    </tr>\n",
       "  </tbody>\n",
       "</table>\n",
       "</div>"
      ],
      "text/plain": [
       "  sent_id                                                 ru  \\\n",
       "0       1  Для меня всё началось лет 15 тому назад, когда...   \n",
       "1       2              в хосписе при Чикагском Университете.   \n",
       "2       3            Я оказывал помощь умирающим и их семьям   \n",
       "3       4                  в районе Саут Сайд города Чикаго.   \n",
       "4       5  И я видел, что происходит на конечной стадии з...   \n",
       "\n",
       "                    zh  \n",
       "0  对于我来说，这个故事是15年前开始的。  \n",
       "1     当时我是芝加哥大学安养院的医生，  \n",
       "2            在芝加哥的南边地区  \n",
       "3       照顾临终的病人和他们的亲属。  \n",
       "4           我借此来观察疾病晚期  "
      ]
     },
     "execution_count": 60,
     "metadata": {},
     "output_type": "execute_result"
    }
   ],
   "source": [
    "zhru_df.head()"
   ]
  },
  {
   "cell_type": "markdown",
   "metadata": {},
   "source": [
    "Unfortunately, half of the files are on the Git LFS storage and not available because author didn't upgrade the plan. And from existed files we can make parallel corpus, but it is not reliable (sentence ID's are not corresponding in a right way)."
   ]
  },
  {
   "cell_type": "markdown",
   "metadata": {},
   "source": [
    "### Kaggle datasets"
   ]
  },
  {
   "cell_type": "markdown",
   "metadata": {},
   "source": [
    "So, I've found the following dataset on Kaggle.\n",
    "\n",
    "https://www.kaggle.com/goweiting/ted-talks-transcript\n",
    "\n",
    "It's a large bunch of the subtitle files that we need to process to make the useful stuff."
   ]
  },
  {
   "cell_type": "code",
   "execution_count": 6,
   "metadata": {},
   "outputs": [],
   "source": [
    "import os\n",
    "import glob\n",
    "path = \"D:\\\\ml\\\\ted-talks-transcript\\\\tedDirector\\\\subtitles\""
   ]
  },
  {
   "cell_type": "code",
   "execution_count": 11,
   "metadata": {},
   "outputs": [],
   "source": [
    "id = 0\n",
    "subtitles = {}\n",
    "\n",
    "for d in [dirpath for (dirpath, dirnames, filenames) in os.walk(path)][1:]:\n",
    "    types = ['\\*.ru.vtt', '\\*.zh-CN.vtt']\n",
    "    pair = []\n",
    "    \n",
    "    for t in types:\n",
    "        files = glob.glob(d + t)\n",
    "        if len(files) == 1:\n",
    "            pair.extend(files)\n",
    "    \n",
    "    if len(pair) == 2:\n",
    "        subtitles[id] = pair\n",
    "        id += 1"
   ]
  },
  {
   "cell_type": "code",
   "execution_count": 12,
   "metadata": {},
   "outputs": [
    {
     "data": {
      "text/plain": [
       "2309"
      ]
     },
     "execution_count": 12,
     "metadata": {},
     "output_type": "execute_result"
    }
   ],
   "source": [
    "len(subtitles)"
   ]
  },
  {
   "cell_type": "code",
   "execution_count": 5,
   "metadata": {},
   "outputs": [
    {
     "data": {
      "text/plain": [
       "['D:\\\\ml\\\\ted-talks-transcript\\\\tedDirector\\\\subtitles\\\\-0v7mTvJ8M4\\\\-0v7mTvJ8M4.ru.vtt',\n",
       " 'D:\\\\ml\\\\ted-talks-transcript\\\\tedDirector\\\\subtitles\\\\-0v7mTvJ8M4\\\\-0v7mTvJ8M4.zh-CN.vtt']"
      ]
     },
     "execution_count": 5,
     "metadata": {},
     "output_type": "execute_result"
    }
   ],
   "source": [
    "subtitles[0]"
   ]
  },
  {
   "cell_type": "code",
   "execution_count": 6,
   "metadata": {},
   "outputs": [
    {
     "data": {
      "text/plain": [
       "['диван-кровать', 'стоит', 'у', 'стены']"
      ]
     },
     "execution_count": 6,
     "metadata": {},
     "output_type": "execute_result"
    }
   ],
   "source": [
    "[t.text for t in tokenize('диван-кровать стоит у стены')]"
   ]
  },
  {
   "cell_type": "code",
   "execution_count": 8,
   "metadata": {},
   "outputs": [],
   "source": [
    "output_ru = 'D:\\\\ml\\\\ted-talks-transcript\\\\output_ru.txt'\n",
    "output_zh = 'D:\\\\ml\\\\ted-talks-transcript\\\\output_zh.txt'\n",
    "tokens_ru = 'D:\\\\ml\\\\ted-talks-transcript\\\\tokens_ru.txt'\n",
    "tokens_zh = 'D:\\\\ml\\\\ted-talks-transcript\\\\tokens_zh.txt'"
   ]
  },
  {
   "cell_type": "code",
   "execution_count": 239,
   "metadata": {
    "scrolled": true
   },
   "outputs": [],
   "source": [
    "import random\n",
    "rand = random.randint(0, 2309)\n",
    "\n",
    "with open(output_ru, mode='w', encoding='utf-8') as out_ru, open(output_zh, mode='w', encoding='utf-8') as out_zh, \\\n",
    "        open(tokens_ru, mode='w', encoding='utf-8') as tok_ru, open(tokens_zh, mode='w', encoding='utf-8') as tok_zh:\n",
    "    #or id in [id for id in subtitles][rand:rand+1]:  \n",
    "    for id in [id for id in subtitles]:  \n",
    "        strings = {}\n",
    "        textlines = {'ru': [], 'zh':[]}\n",
    "\n",
    "        sentences = {}\n",
    "        textlines_sent = {'ru': [], 'zh':[]}\n",
    "        \n",
    "        for file in subtitles[id]:\n",
    "            #print(file)\n",
    "            timestamp = ''\n",
    "            \n",
    "            sentence_acc = \"\"\n",
    "            \n",
    "            with open(file, mode='r', encoding='utf-8') as f:                \n",
    "                isRu = bool(re.search('ru\\.vtt$', file))\n",
    "                if isRu:\n",
    "                    lang = 'ru'\n",
    "                else:\n",
    "                    lang = 'zh'\n",
    "                \n",
    "                for line in f.readlines():\n",
    "                    isTimestamp = re.match(\"^\\d\\d:\\d\\d:\\d\\d\\.\\d\\d\\d.*\", line)\n",
    "                    \n",
    "                    if isTimestamp:\n",
    "                        if timestamp in strings:\n",
    "                            strings[timestamp][lang] = ' '.join(textlines[lang])\n",
    "                            textlines = {'ru': [], 'zh':[]}\n",
    "                            #print('timestamp')\n",
    "\n",
    "                        #comes out that the second date in timing is not reliable. taking the start time as key.\n",
    "                        timestamp = line[:16]\n",
    "                        if timestamp not in strings:\n",
    "                            strings[timestamp] = {'ru': '', 'zh':''}\n",
    "                    else: \n",
    "                        #filter beginning of the transcription\n",
    "                        if not isTimestamp:\n",
    "                            if (re.match(\"^Переводчик*\", line) != None) | (re.match(\"^Редактор*\", line) != None) | (re.match(\"^\\(Смех\\)*\", line) != None) | (re.match(\"^\\(Музыка\\)*\", line) != None) | (re.match(\"^\\(Аплодисменты\\)*\", line) != None) | (re.match(\"^Спасибо*\", line) != None):\n",
    "                                textlines = {'ru': [], 'zh':[]}\n",
    "                                continue\n",
    "                        \n",
    "                        if timestamp in strings:\n",
    "                            #print('true', lang)\n",
    "                            if len(line.strip()) > 0:\n",
    "                                textlines[lang].append(line.replace('\\t',' ').strip())\n",
    "                            #print(textlines[lang])\n",
    "\n",
    "        for ts in strings:\n",
    "            if (len(strings[ts]['ru']) > 2) & (len(strings[ts]['zh']) > 2):\n",
    "                str_ru = strings[ts]['ru']\n",
    "                str_zh = strings[ts]['zh']\n",
    "                \n",
    "                out_ru.write(str_ru + '\\n')\n",
    "                out_zh.write(str_zh + '\\n')\n",
    "                \n",
    "                #print(' '.join([t.text for t in tokenize(str_ru)]))\n",
    "                #print(' '.join(jieba.lcut(str_zh)))\n",
    "                \n",
    "                tok_ru.write(' '.join([t.text for t in tokenize(str_ru)]) + '\\n')\n",
    "                tok_zh.write(' '.join(jieba.lcut(str_zh)) + '\\n')\n",
    "                "
   ]
  },
  {
   "cell_type": "code",
   "execution_count": 236,
   "metadata": {},
   "outputs": [],
   "source": [
    "#707839\n",
    "#552370"
   ]
  },
  {
   "cell_type": "code",
   "execution_count": 9,
   "metadata": {
    "scrolled": false
   },
   "outputs": [],
   "source": [
    "sent_ru = 'D:\\\\ml\\\\ted-talks-transcript\\\\sent_ru_ext.txt'\n",
    "sent_zh = 'D:\\\\ml\\\\ted-talks-transcript\\\\sent_zh_ext.txt'\n",
    "\n",
    "with open(output_ru, mode='r', encoding='utf-8') as out_ru, open(output_zh, mode='r', encoding='utf-8') as out_zh, \\\n",
    "    open(sent_ru, mode='w', encoding='utf-8') as sen_ru, open(sent_zh, mode='w', encoding='utf-8') as sen_zh:\n",
    "    \n",
    "    start = True\n",
    "    end = False\n",
    "    sentence_ru = \"\"\n",
    "    sentence_zh = \"\"\n",
    "    \n",
    "    for line_ru in out_ru.readlines():\n",
    "        line_zh = out_zh.readline()\n",
    "        \n",
    "        start = line_ru[:1].upper() == line_ru[:1]            \n",
    "        end = re.match(\".*[\\.!?…]$\", line_ru) != None\n",
    "        \n",
    "#         print(line_ru)\n",
    "#         print(line_zh)\n",
    "                    \n",
    "        sentence_ru = sentence_ru + \" \" + line_ru.strip()\n",
    "        sentence_zh = sentence_zh + \" \" + line_zh.strip()\n",
    "            \n",
    "        if end:  \n",
    "            sent_len = len([t.text for t in tokenize(sentence_ru)])\n",
    "            if (sent_len > 5) * (sent_len < 50):\n",
    "                sen_ru.write(sentence_ru + '\\n')\n",
    "                sen_zh.write(sentence_zh + '\\n')\n",
    "                #print(sentence_ru)\n",
    "                #print(sentence_zh)                \n",
    "                #print()\n",
    "                \n",
    "            sentence_ru = \"\"\n",
    "            sentence_zh = \"\"\n",
    "\n",
    "        \n",
    "        \n",
    "    "
   ]
  },
  {
   "cell_type": "markdown",
   "metadata": {},
   "source": [
    "#### Refinining"
   ]
  },
  {
   "cell_type": "code",
   "execution_count": 3,
   "metadata": {},
   "outputs": [],
   "source": [
    "#df_corpus = pd.read_csv('D:\\\\ml\\\\ted-talks-transcript\\\\output.txt', delimiter='\\t', names=['ru', 'zh'])"
   ]
  },
  {
   "cell_type": "code",
   "execution_count": null,
   "metadata": {},
   "outputs": [],
   "source": [
    "with open(output_ru, mode='r', encoding='utf-8') as out_ru"
   ]
  }
 ],
 "metadata": {
  "kernelspec": {
   "display_name": "Python 3.7.4 64-bit",
   "language": "python",
   "name": "python37464bit6ddfec3d72d0445aa5d24384f848b5d9"
  },
  "language_info": {
   "codemirror_mode": {
    "name": "ipython",
    "version": 3
   },
   "file_extension": ".py",
   "mimetype": "text/x-python",
   "name": "python",
   "nbconvert_exporter": "python",
   "pygments_lexer": "ipython3",
   "version": "3.7.4"
  },
  "toc": {
   "base_numbering": 1,
   "nav_menu": {},
   "number_sections": true,
   "sideBar": true,
   "skip_h1_title": true,
   "title_cell": "Table of Contents",
   "title_sidebar": "Contents",
   "toc_cell": false,
   "toc_position": {},
   "toc_section_display": true,
   "toc_window_display": false
  }
 },
 "nbformat": 4,
 "nbformat_minor": 2
}
