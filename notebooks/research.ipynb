{
 "cells": [
  {
   "cell_type": "markdown",
   "metadata": {},
   "source": [
    "# Introduction"
   ]
  },
  {
   "cell_type": "markdown",
   "metadata": {},
   "source": [
    "https://mlbootcamp.ru/round/26/tasks/\n",
    "\n",
    "Chinese is a wonderful language. Let's see what can we build to understand the meaning of the sentence and make a proper translation system.\n",
    "\n",
    "Our main task is to receive a Russian translation for a Chinese text."
   ]
  },
  {
   "cell_type": "code",
   "execution_count": 7,
   "metadata": {},
   "outputs": [],
   "source": [
    "import pandas as pd\n",
    "import numpy as np\n",
    "import jieba\n",
    "import pinyin.cedict\n",
    "import pickle\n",
    "\n",
    "from matplotlib import pyplot as plt"
   ]
  },
  {
   "cell_type": "markdown",
   "metadata": {},
   "source": [
    "It's a random sentences from the BBC news channel."
   ]
  },
  {
   "cell_type": "code",
   "execution_count": 19,
   "metadata": {},
   "outputs": [],
   "source": [
    "text = \"摆在唐宁街面前的是一系列重大决策：何时行动？解除哪些限制？如何控制病毒传播？如何权衡短期内挽救生命、长期内挽救经济和社会？\""
   ]
  },
  {
   "cell_type": "markdown",
   "metadata": {},
   "source": [
    "Typical Chinese word consists of 2 or 3 characters. We can see that there are no spaces between words. Let's use the jieba library to split the sentence to words."
   ]
  },
  {
   "cell_type": "code",
   "execution_count": 28,
   "metadata": {},
   "outputs": [],
   "source": [
    "words = jieba.lcut(text)"
   ]
  },
  {
   "cell_type": "code",
   "execution_count": 48,
   "metadata": {},
   "outputs": [
    {
     "data": {
      "text/plain": [
       "['摆在',\n",
       " '唐宁街',\n",
       " '面前',\n",
       " '的',\n",
       " '是',\n",
       " '一系列',\n",
       " '重大',\n",
       " '决策',\n",
       " '：',\n",
       " '何时',\n",
       " '行动',\n",
       " '？',\n",
       " '解除',\n",
       " '哪些']"
      ]
     },
     "execution_count": 48,
     "metadata": {},
     "output_type": "execute_result"
    }
   ],
   "source": [
    "words[:14]"
   ]
  },
  {
   "cell_type": "markdown",
   "metadata": {},
   "source": [
    "We can slightly understand what's it about by use the pinyin lib."
   ]
  },
  {
   "cell_type": "code",
   "execution_count": 44,
   "metadata": {},
   "outputs": [],
   "source": [
    "trans = []\n",
    "for word in words:\n",
    "    tr = pinyin.cedict.translate_word(word)\n",
    "    if tr:\n",
    "        trans.append(tr[0])\n",
    "    else:\n",
    "        trans.append(\"—\")"
   ]
  },
  {
   "cell_type": "code",
   "execution_count": 47,
   "metadata": {
    "scrolled": true
   },
   "outputs": [
    {
     "data": {
      "text/plain": [
       "['—',\n",
       " 'Downing Street (London)',\n",
       " 'in front of',\n",
       " 'aim',\n",
       " 'variant of 是[shi4]',\n",
       " 'a series of',\n",
       " 'great',\n",
       " 'strategic decision',\n",
       " '—',\n",
       " 'when',\n",
       " 'operation',\n",
       " '—',\n",
       " 'to remove',\n",
       " 'which ones?']"
      ]
     },
     "execution_count": 47,
     "metadata": {},
     "output_type": "execute_result"
    }
   ],
   "source": [
    "trans[:14]"
   ]
  },
  {
   "cell_type": "markdown",
   "metadata": {},
   "source": [
    "# Baseline"
   ]
  },
  {
   "cell_type": "markdown",
   "metadata": {},
   "source": [
    "Naive approach is to translate with dictionary. We take the first Chinese-Russian dictionary thet we can find, clean it and use to translation."
   ]
  },
  {
   "cell_type": "code",
   "execution_count": 24,
   "metadata": {},
   "outputs": [],
   "source": [
    "zh_ru = pickle.load(open(\"zh_ru.pkl\", \"rb\"))"
   ]
  },
  {
   "cell_type": "code",
   "execution_count": 52,
   "metadata": {},
   "outputs": [
    {
     "data": {
      "text/plain": [
       "2616"
      ]
     },
     "execution_count": 52,
     "metadata": {},
     "output_type": "execute_result"
    }
   ],
   "source": [
    "len(zh_ru)"
   ]
  },
  {
   "cell_type": "code",
   "execution_count": 53,
   "metadata": {},
   "outputs": [],
   "source": [
    "def translate(word):\n",
    "    if word in zh_ru:\n",
    "        return zh_ru[word]\n",
    "    else:\n",
    "        return \"пушкин\""
   ]
  },
  {
   "cell_type": "code",
   "execution_count": 56,
   "metadata": {},
   "outputs": [
    {
     "name": "stdout",
     "output_type": "stream",
     "text": [
      "摆在 пушкин\n",
      "唐宁街 пушкин\n",
      "面前 пушкин\n",
      "的 пушкин\n",
      "是 ['представлять', 'представить']\n",
      "一系列 ['серия']\n",
      "重大 пушкин\n",
      "决策 пушкин\n",
      "： пушкин\n",
      "何时 пушкин\n",
      "行动 пушкин\n",
      "？ пушкин\n",
      "解除 пушкин\n",
      "哪些 пушкин\n",
      "限制 пушкин\n",
      "？ пушкин\n",
      "如何 ['как?']\n",
      "控制 пушкин\n",
      "病毒传播 пушкин\n",
      "？ пушкин\n",
      "如何 ['как?']\n",
      "权衡 пушкин\n",
      "短期内 пушкин\n",
      "挽救 пушкин\n",
      "生命 ['жизнь']\n",
      "、 пушкин\n",
      "长期 пушкин\n",
      "内 пушкин\n",
      "挽救 пушкин\n",
      "经济 ['экономика']\n",
      "和 ['с']\n",
      "社会 пушкин\n",
      "？ пушкин\n"
     ]
    }
   ],
   "source": [
    "for word in words:\n",
    "    print(word, translate(word))"
   ]
  },
  {
   "cell_type": "code",
   "execution_count": 68,
   "metadata": {},
   "outputs": [],
   "source": [
    "import json\n",
    "with open('data.json', 'w', encoding='utf8') as f:\n",
    "    json.dump(zh_ru, f, ensure_ascii=False)\n",
    "    \n",
    "#     with io.open('filename', 'w', encoding='utf8') as json_file:\n",
    "#     json.dump(u\"ברי צקלה\", json_file, ensure_ascii=False)"
   ]
  },
  {
   "cell_type": "code",
   "execution_count": 70,
   "metadata": {},
   "outputs": [],
   "source": [
    "with open('data.json', 'r', encoding='utf8') as f:\n",
    "    a = json.load(f)"
   ]
  },
  {
   "cell_type": "code",
   "execution_count": 71,
   "metadata": {},
   "outputs": [
    {
     "data": {
      "text/plain": [
       "['а']"
      ]
     },
     "execution_count": 71,
     "metadata": {},
     "output_type": "execute_result"
    }
   ],
   "source": [
    "a['而']"
   ]
  },
  {
   "cell_type": "code",
   "execution_count": null,
   "metadata": {},
   "outputs": [],
   "source": []
  }
 ],
 "metadata": {
  "kernelspec": {
   "display_name": "Python 3.7.4 64-bit",
   "language": "python",
   "name": "python37464bit6ddfec3d72d0445aa5d24384f848b5d9"
  },
  "language_info": {
   "codemirror_mode": {
    "name": "ipython",
    "version": 3
   },
   "file_extension": ".py",
   "mimetype": "text/x-python",
   "name": "python",
   "nbconvert_exporter": "python",
   "pygments_lexer": "ipython3",
   "version": "3.7.4"
  },
  "toc": {
   "base_numbering": 1,
   "nav_menu": {},
   "number_sections": true,
   "sideBar": true,
   "skip_h1_title": true,
   "title_cell": "Table of Contents",
   "title_sidebar": "Contents",
   "toc_cell": false,
   "toc_position": {},
   "toc_section_display": true,
   "toc_window_display": false
  }
 },
 "nbformat": 4,
 "nbformat_minor": 2
}
